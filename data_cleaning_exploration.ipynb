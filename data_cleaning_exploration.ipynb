{
 "cells": [
  {
   "cell_type": "markdown",
   "id": "c29b786d",
   "metadata": {},
   "source": [
    "# Imports"
   ]
  },
  {
   "cell_type": "code",
   "execution_count": 1,
   "id": "66c780ea",
   "metadata": {},
   "outputs": [],
   "source": [
    "import numpy as np\n",
    "import pandas as pd"
   ]
  },
  {
   "cell_type": "markdown",
   "id": "f0d20d46",
   "metadata": {},
   "source": [
    "# Load Data"
   ]
  },
  {
   "cell_type": "code",
   "execution_count": 2,
   "id": "d7a18751",
   "metadata": {},
   "outputs": [],
   "source": [
    "df = pd.read_csv('or.csv')"
   ]
  },
  {
   "cell_type": "code",
   "execution_count": 3,
   "id": "23c92284",
   "metadata": {},
   "outputs": [],
   "source": [
    "df = df.dropna(subset=['cid'])"
   ]
  },
  {
   "cell_type": "markdown",
   "id": "4c08b886",
   "metadata": {},
   "source": [
    "# Feature Creation"
   ]
  },
  {
   "cell_type": "markdown",
   "id": "024ec2e4",
   "metadata": {},
   "source": [
    "## Spending Score"
   ]
  },
  {
   "cell_type": "code",
   "execution_count": 10,
   "id": "a320b252",
   "metadata": {},
   "outputs": [],
   "source": [
    "spending_df = df.iloc[:, [5,6]]\n",
    "\n",
    "spending_score = spending_df.groupby('cid').sum()\n",
    "spending_score = spending_score.reset_index()\n",
    "missing_spending = spending_score[spending_score['cid'].isnull()]"
   ]
  },
  {
   "cell_type": "code",
   "execution_count": 5,
   "id": "4044dd2a",
   "metadata": {},
   "outputs": [
    {
     "data": {
      "text/html": [
       "<div>\n",
       "<style scoped>\n",
       "    .dataframe tbody tr th:only-of-type {\n",
       "        vertical-align: middle;\n",
       "    }\n",
       "\n",
       "    .dataframe tbody tr th {\n",
       "        vertical-align: top;\n",
       "    }\n",
       "\n",
       "    .dataframe thead th {\n",
       "        text-align: right;\n",
       "    }\n",
       "</style>\n",
       "<table border=\"1\" class=\"dataframe\">\n",
       "  <thead>\n",
       "    <tr style=\"text-align: right;\">\n",
       "      <th></th>\n",
       "      <th>cid</th>\n",
       "      <th>price</th>\n",
       "    </tr>\n",
       "  </thead>\n",
       "  <tbody>\n",
       "  </tbody>\n",
       "</table>\n",
       "</div>"
      ],
      "text/plain": [
       "Empty DataFrame\n",
       "Columns: [cid, price]\n",
       "Index: []"
      ]
     },
     "execution_count": 5,
     "metadata": {},
     "output_type": "execute_result"
    }
   ],
   "source": [
    "missing_spending"
   ]
  },
  {
   "cell_type": "markdown",
   "id": "46a40465",
   "metadata": {},
   "source": [
    "According to our _boxplot_ the hupper bound of the spending score should be __1061.65__, the rest of the observations is outliers. "
   ]
  },
  {
   "cell_type": "code",
   "execution_count": 12,
   "id": "b12eb734",
   "metadata": {},
   "outputs": [],
   "source": [
    "spending_score = spending_score[spending_score['price'] <= 1061.65]"
   ]
  },
  {
   "cell_type": "markdown",
   "id": "de7ff016",
   "metadata": {},
   "source": [
    "## Frequency Score"
   ]
  },
  {
   "cell_type": "code",
   "execution_count": 13,
   "id": "c2f2e284",
   "metadata": {},
   "outputs": [],
   "source": [
    "frequency_df = df.iloc[:, [1,6]]\n",
    "\n",
    "frequency_score = frequency_df.groupby('cid').count()"
   ]
  },
  {
   "cell_type": "markdown",
   "id": "9b112201",
   "metadata": {},
   "source": [
    "According to our boxplot the hupper bound of the frequency score should be __328__, the rest of the observations is outliers."
   ]
  },
  {
   "cell_type": "code",
   "execution_count": 16,
   "id": "baafa370",
   "metadata": {},
   "outputs": [],
   "source": [
    "frequency_score = frequency_score[frequency_score['inv'] <= 328]"
   ]
  },
  {
   "cell_type": "markdown",
   "id": "a9db06b3",
   "metadata": {},
   "source": [
    "## Merging both features"
   ]
  },
  {
   "cell_type": "code",
   "execution_count": 18,
   "id": "f946c2b7",
   "metadata": {
    "scrolled": true
   },
   "outputs": [
    {
     "data": {
      "text/html": [
       "<div>\n",
       "<style scoped>\n",
       "    .dataframe tbody tr th:only-of-type {\n",
       "        vertical-align: middle;\n",
       "    }\n",
       "\n",
       "    .dataframe tbody tr th {\n",
       "        vertical-align: top;\n",
       "    }\n",
       "\n",
       "    .dataframe thead th {\n",
       "        text-align: right;\n",
       "    }\n",
       "</style>\n",
       "<table border=\"1\" class=\"dataframe\">\n",
       "  <thead>\n",
       "    <tr style=\"text-align: right;\">\n",
       "      <th></th>\n",
       "      <th>cid</th>\n",
       "      <th>frequency_score</th>\n",
       "      <th>spending_score</th>\n",
       "    </tr>\n",
       "  </thead>\n",
       "  <tbody>\n",
       "    <tr>\n",
       "      <th>0</th>\n",
       "      <td>12346.0</td>\n",
       "      <td>48</td>\n",
       "      <td>580.44</td>\n",
       "    </tr>\n",
       "    <tr>\n",
       "      <th>1</th>\n",
       "      <td>12347.0</td>\n",
       "      <td>253</td>\n",
       "      <td>644.16</td>\n",
       "    </tr>\n",
       "    <tr>\n",
       "      <th>2</th>\n",
       "      <td>12348.0</td>\n",
       "      <td>51</td>\n",
       "      <td>193.10</td>\n",
       "    </tr>\n",
       "    <tr>\n",
       "      <th>3</th>\n",
       "      <td>12350.0</td>\n",
       "      <td>17</td>\n",
       "      <td>65.30</td>\n",
       "    </tr>\n",
       "    <tr>\n",
       "      <th>4</th>\n",
       "      <td>12351.0</td>\n",
       "      <td>21</td>\n",
       "      <td>49.46</td>\n",
       "    </tr>\n",
       "  </tbody>\n",
       "</table>\n",
       "</div>"
      ],
      "text/plain": [
       "       cid  frequency_score  spending_score\n",
       "0  12346.0               48          580.44\n",
       "1  12347.0              253          644.16\n",
       "2  12348.0               51          193.10\n",
       "3  12350.0               17           65.30\n",
       "4  12351.0               21           49.46"
      ]
     },
     "execution_count": 18,
     "metadata": {},
     "output_type": "execute_result"
    }
   ],
   "source": [
    "new_df = pd.merge(frequency_score, spending_score, on='cid', how='inner')\n",
    "\n",
    "new_df = new_df.rename(columns={'inv': 'frequency_score', 'price': 'spending_score'})\n",
    "new_df.head()"
   ]
  },
  {
   "cell_type": "markdown",
   "id": "bc2fdbc5",
   "metadata": {},
   "source": [
    "# Exports"
   ]
  },
  {
   "cell_type": "code",
   "execution_count": 19,
   "id": "97f9f824",
   "metadata": {},
   "outputs": [],
   "source": [
    "new_df.to_csv('spending_frequency_score.csv')"
   ]
  }
 ],
 "metadata": {
  "kernelspec": {
   "display_name": "Python 3 (ipykernel)",
   "language": "python",
   "name": "python3"
  },
  "language_info": {
   "codemirror_mode": {
    "name": "ipython",
    "version": 3
   },
   "file_extension": ".py",
   "mimetype": "text/x-python",
   "name": "python",
   "nbconvert_exporter": "python",
   "pygments_lexer": "ipython3",
   "version": "3.9.2"
  }
 },
 "nbformat": 4,
 "nbformat_minor": 5
}
